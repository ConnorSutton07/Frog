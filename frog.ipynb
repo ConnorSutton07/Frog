{
 "cells": [
  {
   "cell_type": "code",
   "execution_count": 11,
   "id": "64b4baee-f270-47a9-a12f-1035ffec1b9e",
   "metadata": {
    "execution": {
     "iopub.execute_input": "2022-02-13T15:55:20.846192Z",
     "iopub.status.busy": "2022-02-13T15:55:20.846192Z",
     "iopub.status.idle": "2022-02-13T15:55:21.019191Z",
     "shell.execute_reply": "2022-02-13T15:55:21.019191Z",
     "shell.execute_reply.started": "2022-02-13T15:55:20.846192Z"
    },
    "tags": []
   },
   "outputs": [],
   "source": [
    "from __future__ import annotations\n",
    "import numpy as np\n",
    "import random\n",
    "from math import log\n",
    "from icecream import ic\n",
    "from typing import List\n",
    "import re\n",
    "import os\n",
    "from tqdm import tqdm"
   ]
  },
  {
   "cell_type": "code",
   "execution_count": 12,
   "id": "989d8cbd-d10e-44e2-82a2-01db1b5e4981",
   "metadata": {
    "execution": {
     "iopub.execute_input": "2022-02-13T15:55:21.021192Z",
     "iopub.status.busy": "2022-02-13T15:55:21.020191Z",
     "iopub.status.idle": "2022-02-13T15:55:21.036191Z",
     "shell.execute_reply": "2022-02-13T15:55:21.035195Z",
     "shell.execute_reply.started": "2022-02-13T15:55:21.021192Z"
    },
    "tags": []
   },
   "outputs": [],
   "source": [
    "def preprocess(text: str):\n",
    "    text = text.lower()\n",
    "    text = re.sub(r'[\\n ]+', ' ', text)\n",
    "    text = re.sub(r'[^A-Za-z. ]', '', text)\n",
    "    text = text.split(' ')\n",
    "    return text"
   ]
  },
  {
   "cell_type": "code",
   "execution_count": 13,
   "id": "e5b2776a",
   "metadata": {},
   "outputs": [],
   "source": [
    "class Distribution:\n",
    "    def __init__(self, choices: list, smoothing: float = 3) -> None:\n",
    "        # the higher the base, the more the smoothing\n",
    "        assert smoothing > 1\n",
    "        self.counts = {choice: log(choices.count(choice) + 1, smoothing) for choice in set(choices)}\n",
    "\n",
    "    def sample(self):\n",
    "        return random.choices(list(self.counts.keys()), weights = list(self.counts.values()), k = 1)[0]"
   ]
  },
  {
   "cell_type": "code",
   "execution_count": 14,
   "id": "c71eeadc-9a99-4d27-a40f-ced937ab1cfe",
   "metadata": {
    "execution": {
     "iopub.execute_input": "2022-02-13T15:55:21.877325Z",
     "iopub.status.busy": "2022-02-13T15:55:21.877325Z",
     "iopub.status.idle": "2022-02-13T15:55:21.890324Z",
     "shell.execute_reply": "2022-02-13T15:55:21.889328Z",
     "shell.execute_reply.started": "2022-02-13T15:55:21.877325Z"
    },
    "tags": []
   },
   "outputs": [],
   "source": [
    "def ngram(n: int, text: List[str]):\n",
    "    ngrams = {}\n",
    "    for i in range(len(text) - n):\n",
    "        seq = \" \".join(text[i : i + n])\n",
    "        if seq not in ngrams: ngrams[seq] = [text[i + n]]\n",
    "        else: ngrams[seq].append( text[i + n] )\n",
    "        \n",
    "    for key, choices in ngrams.items():\n",
    "        ngrams[key] = Distribution(choices)\n",
    "        choices.clear()\n",
    "    return ngrams"
   ]
  },
  {
   "cell_type": "code",
   "execution_count": 15,
   "id": "a2f1015d-7b47-4755-b49c-fb961cbf3477",
   "metadata": {
    "execution": {
     "iopub.execute_input": "2022-02-13T16:00:57.472740Z",
     "iopub.status.busy": "2022-02-13T16:00:57.471738Z",
     "iopub.status.idle": "2022-02-13T16:00:57.486737Z",
     "shell.execute_reply": "2022-02-13T16:00:57.485738Z",
     "shell.execute_reply.started": "2022-02-13T16:00:57.472740Z"
    },
    "tags": []
   },
   "outputs": [],
   "source": [
    "def sample(query: str, models: List[dict], n: int, length: int):\n",
    "    model = models[n]\n",
    "    og_query = query\n",
    "    query: list = ((query.split(' '))[-n:])\n",
    "    result = query[:]\n",
    "    sentences = 0\n",
    "    length_reached = False\n",
    "    at_sentence = False\n",
    "    i = 0\n",
    "    while not length_reached or not at_sentence:\n",
    "        at_sentence = False\n",
    "        key = \" \".join(query)\n",
    "        if key not in model and n - 1:\n",
    "            return sample(og_query, models, n - 1, length)\n",
    "        new_word = model[key].sample()\n",
    "        del query[0]\n",
    "        query.append(new_word)\n",
    "        result.append(new_word)\n",
    "\n",
    "        if new_word in {'?', '!', '.'}:\n",
    "            sentences += 1\n",
    "            at_sentence = True\n",
    "        i += 1\n",
    "        if i == length:\n",
    "            length_reached = True\n",
    "    return \" \".join(result), n"
   ]
  },
  {
   "cell_type": "code",
   "execution_count": 16,
   "id": "15a6dab7-eaf8-43c2-83c8-782a3005db77",
   "metadata": {
    "execution": {
     "iopub.execute_input": "2022-02-13T16:24:56.191302Z",
     "iopub.status.busy": "2022-02-13T16:24:56.191302Z",
     "iopub.status.idle": "2022-02-13T16:25:01.064552Z",
     "shell.execute_reply": "2022-02-13T16:25:01.063551Z",
     "shell.execute_reply.started": "2022-02-13T16:24:56.191302Z"
    },
    "tags": []
   },
   "outputs": [],
   "source": [
    "with open(os.path.join(\"Documents\", \"master_scroll_tokenized.txt\"), encoding = 'utf8') as infile:\n",
    "    text = infile.read()\n",
    "text = preprocess(text)"
   ]
  },
  {
   "cell_type": "code",
   "execution_count": 17,
   "id": "64ad62db-47a3-4331-9ee2-a1628a232ed3",
   "metadata": {
    "execution": {
     "iopub.execute_input": "2022-02-13T16:22:30.544897Z",
     "iopub.status.busy": "2022-02-13T16:22:30.543894Z",
     "iopub.status.idle": "2022-02-13T16:22:58.474413Z",
     "shell.execute_reply": "2022-02-13T16:22:58.473413Z",
     "shell.execute_reply.started": "2022-02-13T16:22:30.544897Z"
    },
    "tags": []
   },
   "outputs": [
    {
     "name": "stderr",
     "output_type": "stream",
     "text": [
      "100%|██████████| 4/4 [01:24<00:00, 21.11s/it]\n"
     ]
    }
   ],
   "source": [
    "models = {}\n",
    "for i in tqdm(range(2, 6)):\n",
    "    models[i] = ngram(i, text)"
   ]
  },
  {
   "cell_type": "code",
   "execution_count": 18,
   "id": "c33f25ef-19f2-4ded-8ebd-11d02bc6d41f",
   "metadata": {
    "execution": {
     "iopub.execute_input": "2022-02-13T16:27:48.991342Z",
     "iopub.status.busy": "2022-02-13T16:27:48.991342Z",
     "iopub.status.idle": "2022-02-13T16:27:49.005341Z",
     "shell.execute_reply": "2022-02-13T16:27:49.004341Z",
     "shell.execute_reply.started": "2022-02-13T16:27:48.991342Z"
    },
    "tags": []
   },
   "outputs": [
    {
     "name": "stdout",
     "output_type": "stream",
     "text": [
      "He looked at my gravely and said he couldnt numb the pain from the salvicon and leverage ratios declined over the match and it waxed great exceedingly as betrayed finally drops the dumbbells around like crazy.\n",
      "\n",
      "He looked at my gravely and said poor bombur who hast done my physical head next to bare ridges that fell that day he said were no prejudice perhaps our great people so put off a disease caused when cells divide I yell out alexa hear ye the seed yet in two spammy facebook articles.\n",
      "\n",
      "He looked at my gravely and said were no graves in haste the loving comments. They arrive at what point during the game offers means that they gazed down upon it while talking helps with a young bullock one young bullock shalt thou mar the land which thou swarest unto their inheritance.\n",
      "\n",
      "He looked at my gravely and said if youre busy then jeroboam built shechem in mount ebal as each other and stronger.\n",
      "\n",
      "He looked at my gravely and said mexicans are lazy and not some wet tomato or crunchy lettuce. Once there and sitting up and sat himself before faramir.\n",
      "\n",
      "He looked at my gravely and said babe I need only look at and the follow up mechanics in the deeps.\n",
      "\n",
      "He looked at my gravely and said ok. Any sympathy. One just so happens that cleric villagers utilize brewing stands can only stand being without first understanding loving everyday of the astral realms worlds what of him that day over some of the law worketh wrath their courage or cowardice will not pity him with impeccably convenient timing of the pure in their brown green buds.\n",
      "\n",
      "He looked at my gravely and said one tequila. I once saw it at different epochs. But outside of being very rare that they profane not my lead.\n",
      "\n",
      "He looked at my gravely and said unto noah among the general public are shown as being heirs together of prophets coming down quite a lot though.\n",
      "\n",
      "He looked at my gravely and said is disrespecting her in this world be if it breathed brought it unto the reign of ahasuerus the king answered unto the west which encompasses the pre rendered trailers.\n",
      "\n"
     ]
    }
   ],
   "source": [
    "n = 4\n",
    "resp_len = 15\n",
    "query = 'he looked at my gravely and said'.lower()\n",
    "stop_pattern = re.compile(r'[.?!][.?!]+')\n",
    "comma_pattern = re.compile(r'[,][,]+')\n",
    "space_pattern = re.compile(r'  +')\n",
    "\n",
    "bad_comma_pattern = re.compile(r'[,](?=<[!.?]+>)')\n",
    "for j in range(10):\n",
    "    gen, actual_n = sample(query, models, n, length = resp_len)\n",
    "    gen = gen.replace(' .', '.')\n",
    "    gen = gen.replace(' ;', ';')\n",
    "    gen = gen.replace(' :', ':')\n",
    "    raw_resp = ' '.join(query.split()[:len(query.split()) - actual_n]) + ' ' + gen\n",
    "    resp = '. '.join(sent.capitalize() for sent in raw_resp.split('. '))\n",
    "    resp = resp.replace(' i ', ' I ')\n",
    "    resp = stop_pattern.sub(random.choice(('.', '?', '!')), resp)\n",
    "    resp = space_pattern.sub(' ', resp)\n",
    "    resp = comma_pattern.sub(',', resp)\n",
    "    resp = bad_comma_pattern.sub('', resp)\n",
    "    print(resp)\n",
    "    print()"
   ]
  },
  {
   "cell_type": "code",
   "execution_count": null,
   "id": "e3afa43b-17e2-4da3-b18c-6b07eb86c6a4",
   "metadata": {},
   "outputs": [],
   "source": []
  }
 ],
 "metadata": {
  "kernelspec": {
   "display_name": "Python 3",
   "language": "python",
   "name": "python3"
  },
  "language_info": {
   "codemirror_mode": {
    "name": "ipython",
    "version": 3
   },
   "file_extension": ".py",
   "mimetype": "text/x-python",
   "name": "python",
   "nbconvert_exporter": "python",
   "pygments_lexer": "ipython3",
   "version": "3.9.7"
  }
 },
 "nbformat": 4,
 "nbformat_minor": 5
}

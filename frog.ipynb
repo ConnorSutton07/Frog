{
 "cells": [
  {
   "cell_type": "code",
   "execution_count": 27,
   "id": "64b4baee-f270-47a9-a12f-1035ffec1b9e",
   "metadata": {
    "execution": {
     "iopub.execute_input": "2022-02-15T17:03:23.517654Z",
     "iopub.status.busy": "2022-02-15T17:03:23.517654Z",
     "iopub.status.idle": "2022-02-15T17:03:23.523655Z",
     "shell.execute_reply": "2022-02-15T17:03:23.522657Z",
     "shell.execute_reply.started": "2022-02-15T17:03:23.517654Z"
    },
    "tags": []
   },
   "outputs": [],
   "source": [
    "from __future__ import annotations\n",
    "import numpy as np\n",
    "import random\n",
    "from math import log\n",
    "from icecream import ic\n",
    "from typing import List\n",
    "import re\n",
    "import os\n",
    "from tqdm import tqdm\n",
    "import nltk\n",
    "import pickle"
   ]
  },
  {
   "cell_type": "code",
   "execution_count": 28,
   "id": "989d8cbd-d10e-44e2-82a2-01db1b5e4981",
   "metadata": {
    "execution": {
     "iopub.execute_input": "2022-02-15T17:03:23.758657Z",
     "iopub.status.busy": "2022-02-15T17:03:23.758657Z",
     "iopub.status.idle": "2022-02-15T17:03:23.777654Z",
     "shell.execute_reply": "2022-02-15T17:03:23.776651Z",
     "shell.execute_reply.started": "2022-02-15T17:03:23.758657Z"
    },
    "tags": []
   },
   "outputs": [],
   "source": [
    "def preprocess(text: str):\n",
    "    text = text.lower()\n",
    "    text = re.sub(r'[\\n ]+', ' ', text)\n",
    "    text = re.sub(r'[^A-Za-z. ]', '', text)\n",
    "    text = text.split(' ')\n",
    "    return text"
   ]
  },
  {
   "cell_type": "code",
   "execution_count": 51,
   "id": "e5b2776a",
   "metadata": {
    "execution": {
     "iopub.execute_input": "2022-02-15T17:57:52.595003Z",
     "iopub.status.busy": "2022-02-15T17:57:52.595003Z",
     "iopub.status.idle": "2022-02-15T17:57:52.610001Z",
     "shell.execute_reply": "2022-02-15T17:57:52.609001Z",
     "shell.execute_reply.started": "2022-02-15T17:57:52.595003Z"
    },
    "tags": []
   },
   "outputs": [],
   "source": [
    "class Distribution:\n",
    "    def __init__(self, choices: list, smoothing: float = 2) -> None:\n",
    "        # the higher the base, the more the smoothing\n",
    "        assert smoothing > 1\n",
    "        self.counts = {choice: log(choices.count(choice) + 1, smoothing) for choice in set(choices)}\n",
    "        self.size = len(self.counts)\n",
    "\n",
    "    def sample(self):\n",
    "        return random.choices(list(self.counts.keys()), weights = list(self.counts.values()), k = 1)[0]"
   ]
  },
  {
   "cell_type": "code",
   "execution_count": 30,
   "id": "c71eeadc-9a99-4d27-a40f-ced937ab1cfe",
   "metadata": {
    "execution": {
     "iopub.execute_input": "2022-02-15T17:03:24.670755Z",
     "iopub.status.busy": "2022-02-15T17:03:24.669755Z",
     "iopub.status.idle": "2022-02-15T17:03:24.681758Z",
     "shell.execute_reply": "2022-02-15T17:03:24.680757Z",
     "shell.execute_reply.started": "2022-02-15T17:03:24.670755Z"
    },
    "tags": []
   },
   "outputs": [],
   "source": [
    "def ngram(n: int, text: List[str]):\n",
    "    ngrams = {}\n",
    "    for i in range(len(text) - n):\n",
    "        seq = \" \".join(text[i : i + n])\n",
    "        if seq not in ngrams: ngrams[seq] = [text[i + n]]\n",
    "        else: ngrams[seq].append( text[i + n] )\n",
    "        \n",
    "    for key, choices in ngrams.items():\n",
    "        ngrams[key] = Distribution(choices)\n",
    "        choices.clear()\n",
    "    return ngrams"
   ]
  },
  {
   "cell_type": "code",
   "execution_count": 31,
   "id": "c944a509-ca60-4da3-92b3-8b263005f8a5",
   "metadata": {
    "execution": {
     "iopub.execute_input": "2022-02-15T17:03:25.021893Z",
     "iopub.status.busy": "2022-02-15T17:03:25.021893Z",
     "iopub.status.idle": "2022-02-15T17:03:25.063900Z",
     "shell.execute_reply": "2022-02-15T17:03:25.060895Z",
     "shell.execute_reply.started": "2022-02-15T17:03:25.021893Z"
    },
    "tags": []
   },
   "outputs": [],
   "source": [
    "def pos(n: int, text: List[str]):\n",
    "    tagged = nltk.pos_tag(text)\n",
    "    return tagged"
   ]
  },
  {
   "cell_type": "code",
   "execution_count": 32,
   "id": "a2f1015d-7b47-4755-b49c-fb961cbf3477",
   "metadata": {
    "execution": {
     "iopub.execute_input": "2022-02-15T17:03:26.383761Z",
     "iopub.status.busy": "2022-02-15T17:03:26.383761Z",
     "iopub.status.idle": "2022-02-15T17:03:26.577761Z",
     "shell.execute_reply": "2022-02-15T17:03:26.576761Z",
     "shell.execute_reply.started": "2022-02-15T17:03:26.383761Z"
    },
    "tags": []
   },
   "outputs": [],
   "source": [
    "def sample(query: str, models: List[dict], n: int, length: int):\n",
    "    og_query = query\n",
    "    query: list = ((query.split(' '))[-n:])\n",
    "    result = query[:]\n",
    "    sentences = 0\n",
    "    length_reached = False\n",
    "    at_sentence = False\n",
    "    i = 0\n",
    "    while not length_reached or not at_sentence:\n",
    "        model = models[n]\n",
    "        at_sentence = False\n",
    "        key = \" \".join(query)\n",
    "        if key not in model and n - 1:\n",
    "            return sample(og_query, models, n - 1, length)\n",
    "        new_word = query[-1]\n",
    "        cc = 0\n",
    "        while new_word == query[-1] and cc < 5:\n",
    "            new_word = model[key].sample()\n",
    "            cc += 1\n",
    "        del query[0]\n",
    "        query.append(new_word)\n",
    "        result.append(new_word)\n",
    "\n",
    "        if new_word in {'?', '!', '.'}:\n",
    "            sentences += 1\n",
    "            at_sentence = True\n",
    "        i += 1\n",
    "        if i == length:\n",
    "            length_reached = True\n",
    "    return \" \".join(result), n"
   ]
  },
  {
   "cell_type": "code",
   "execution_count": 38,
   "id": "15a6dab7-eaf8-43c2-83c8-782a3005db77",
   "metadata": {
    "execution": {
     "iopub.execute_input": "2022-02-15T17:14:23.143980Z",
     "iopub.status.busy": "2022-02-15T17:14:23.142978Z",
     "iopub.status.idle": "2022-02-15T17:14:27.009978Z",
     "shell.execute_reply": "2022-02-15T17:14:27.008978Z",
     "shell.execute_reply.started": "2022-02-15T17:14:23.143980Z"
    },
    "tags": []
   },
   "outputs": [],
   "source": [
    "with open(os.path.join(\"Documents\", \"master_scroll_tagged\"), 'rb') as infile:\n",
    "    data = pickle.load(infile)\n",
    "text = [x[0] for x in data]\n",
    "pos = [x[1] for x in data]"
   ]
  },
  {
   "cell_type": "code",
   "execution_count": 53,
   "id": "603ecd02-7f5b-47fd-a40b-3319f7b6c706",
   "metadata": {
    "execution": {
     "iopub.execute_input": "2022-02-15T17:58:13.840611Z",
     "iopub.status.busy": "2022-02-15T17:58:13.840611Z",
     "iopub.status.idle": "2022-02-15T17:58:29.714178Z",
     "shell.execute_reply": "2022-02-15T17:58:29.713182Z",
     "shell.execute_reply.started": "2022-02-15T17:58:13.840611Z"
    },
    "tags": []
   },
   "outputs": [],
   "source": [
    "pos_4gram = ngram(4, pos)"
   ]
  },
  {
   "cell_type": "code",
   "execution_count": 76,
   "id": "64ad62db-47a3-4331-9ee2-a1628a232ed3",
   "metadata": {
    "execution": {
     "iopub.execute_input": "2022-02-15T18:06:17.618688Z",
     "iopub.status.busy": "2022-02-15T18:06:17.618688Z",
     "iopub.status.idle": "2022-02-15T18:06:17.642684Z",
     "shell.execute_reply": "2022-02-15T18:06:17.641687Z",
     "shell.execute_reply.started": "2022-02-15T18:06:17.618688Z"
    },
    "tags": []
   },
   "outputs": [
    {
     "name": "stdout",
     "output_type": "stream",
     "text": [
      "['NN . VBG NNS', '. VBG NNS .', 'VBG NNS . NN', 'NNS . NN NN', '. NN NN VBD']\n",
      "TO\n",
      "30\n"
     ]
    }
   ],
   "source": [
    "print(list(pos_4gram.keys())[:5])\n",
    "print(pos_4gram[\". DT NN VBD\"].sample())\n",
    "print(pos_4gram[\". DT NN VBD\"].size)"
   ]
  },
  {
   "cell_type": "code",
   "execution_count": null,
   "id": "81a957dc-7b97-4806-b8a4-836525b8d916",
   "metadata": {},
   "outputs": [],
   "source": [
    "models = {}\n",
    "for i in tqdm(range(2, 6)):\n",
    "    models[i] = ngram(i, text)"
   ]
  },
  {
   "cell_type": "code",
   "execution_count": 15,
   "id": "c33f25ef-19f2-4ded-8ebd-11d02bc6d41f",
   "metadata": {
    "execution": {
     "iopub.execute_input": "2022-02-13T16:27:48.991342Z",
     "iopub.status.busy": "2022-02-13T16:27:48.991342Z",
     "iopub.status.idle": "2022-02-13T16:27:49.005341Z",
     "shell.execute_reply": "2022-02-13T16:27:49.004341Z",
     "shell.execute_reply.started": "2022-02-13T16:27:48.991342Z"
    },
    "tags": []
   },
   "outputs": [
    {
     "name": "stdout",
     "output_type": "stream",
     "text": [
      "1) \"I came for questions not to die than eat it pinched the bridge was very exciting and all his sisters sent unto thee will I ever so slightly in my colon. Nothing really. Well hes just got broken up with can make eye contact like praying praying it isnt pippin. He seized the leaders and the emptiness and complete psych disso euphoria. Aspects to love these characters are humanoid and melech and probably rate it highly increases the behavior.\"\n",
      "\n",
      "2) \"I came for questions not to mine for your personal energy is better to recognise best genre game instead of grabbing the nurses put them over. Heres my story. Regardless of our wits about us when exactly it. Everything together until her memorial service. Tl dr fix her mistake when I really should try new things because there was agreeable feature can americans get in from ophir great plenty of sick of my early twenties.\"\n",
      "\n",
      "3) \"I came for questions not to lose his life has disgusted mum and stroked his dick with it. Advertising for fictional brands with appealing names such as have never have recognized him. Come back again from leaf and fruit trees on its soundtrack despicable thing in my flat. Georgia hadnt been with women every week in the mines of moria where gandalf lay. But allah will bring upon abraham that thing becomes magnified into the shopping cart away at church to please give me any more mystery.\"\n",
      "\n",
      "4) \"I came for questions not to move the news usually reddit is entirely possible someone is an infinite universe weve imagined since the question because im curious if its not he who noiseth it abroad and intentionally apd for first timers and I died a basement with me to mt. Rushmore of kindness which has bewildered the spectators and familiar beings. Totally uncalled for with shouting you measure movement in front leading a life of boris youtuber on email on multiple social media from my boss used to gain land were able to reliably affect prices in years people will be contaminated with reagents.\"\n",
      "\n",
      "5) \"I came for questions not to wholesome words etc when im emotionally cheating on you externally and hear not in brackets besides his inbox was a pagan or the year on pain you said before leaving it in fire coverage and get right to void the contract with a more equitable tax system which poured water on weekends or after waking up the workforce were needed most. And d animated films that contain a scream coming closer.\"\n",
      "\n",
      "6) \"I came for questions not to look into them like im kind of surprised inquiry and suggest it may affect the outcome of fucking retards if you sleep with any hope I responded as though there be laid bare by the order he loved me and I cuddled with them dating somebody else a different isp. Grammar schools c f autistic and legolas told them im going in there for grief suffering any known evil over our galaxy anywhere in the quiz bowl session peter parker and their energies these bernards when minister in the wickedness of your worries.\"\n",
      "\n",
      "7) \"I came for questions not to start recalibrating. Cheersi have been of your body very tightly. Thank a protester on the son at that moment being the firstfruits ye daughters of the fourth recall made public in two pieces of the tower of syene shall they see the plagues of thy cities shall be foursquare with dr j had poked the baggy. For instance epicurean or christian my bird that wandereth. Feet below.\"\n",
      "\n",
      "8) \"I came for questions not to seek peace above anything they ignored me until bending south it got to wear any kind is felt so soon five on the riverfront. When they see hear say whatever I want thirty cents thanks are also welcome any feedback. Thank god it were some fallen rider that rode on the desired nature your ear again. Waste of money on drinks so I realized people had given them and done with younger girls.\"\n",
      "\n",
      "9) \"I came for questions not to hide what is generally the more because kevin could not give himself up right before it was listed in no gift of recognizing yourself thank youmain character energy vibe songs some of her puffers and is shown to try out different if the earth rejoice before whom I like and what kevin does very well. But sam feared the sword in one part only had four sons that grew from its sheath.\"\n",
      "\n",
      "10) \"I came for questions not to him its okay. Do their job fairly easy. You could pick it up there relationship and I bow my knees and licked the blood seven times media press with the pestle out of mine ill call tomorrow. Kwa. Look at alyosha with an enchanted war hammer but wherever the industrial capitalist. Masses of tnt. Times the process itself remains the same no matter if I beheld horrible spock yes wipe the seatie.\"\n",
      "\n"
     ]
    }
   ],
   "source": [
    "n = 4\n",
    "resp_len = 75\n",
    "# THESE WORK: note that upon failing a value of n, it will atempt to decrease n for remainder of generation.\n",
    "# i guess he could have just\n",
    "# jocks bring the nectar to\n",
    "# the fat of the peace\n",
    "# i came for questions not to\n",
    "# this book is largely concerned with hobbits\n",
    "query = 'this book is largely concerned with hobbits'.lower()\n",
    "stop_pattern = re.compile(r'[.?!][.?!]+')\n",
    "comma_pattern = re.compile(r'[,][,]+')\n",
    "space_pattern = re.compile(r'  +')\n",
    "\n",
    "bad_comma_pattern = re.compile(r'[,](?=<[!.?]+>)')\n",
    "for i in range(1, 11):\n",
    "    gen, actual_n = sample(query, models, n, length = resp_len)\n",
    "    gen = gen.replace(' .', '.')\n",
    "    gen = gen.replace(' ;', ';')\n",
    "    gen = gen.replace(' :', ':')\n",
    "    raw_resp = ' '.join(query.split()[:len(query.split()) - actual_n]) + ' ' + gen\n",
    "    resp = '. '.join(sent.strip().capitalize() for sent in raw_resp.split('. '))\n",
    "    resp = resp.replace(' i ', ' I ')\n",
    "    resp = stop_pattern.sub(random.choice(('.', '?', '!')), resp)\n",
    "    resp = space_pattern.sub(' ', resp)\n",
    "    resp = comma_pattern.sub(',', resp)\n",
    "    resp = bad_comma_pattern.sub('', resp)\n",
    "    print(f'{i}) \"{resp}\"')\n",
    "    print()"
   ]
  },
  {
   "cell_type": "code",
   "execution_count": null,
   "id": "e3afa43b-17e2-4da3-b18c-6b07eb86c6a4",
   "metadata": {},
   "outputs": [],
   "source": []
  }
 ],
 "metadata": {
  "kernelspec": {
   "display_name": "Python 3",
   "language": "python",
   "name": "python3"
  },
  "language_info": {
   "codemirror_mode": {
    "name": "ipython",
    "version": 3
   },
   "file_extension": ".py",
   "mimetype": "text/x-python",
   "name": "python",
   "nbconvert_exporter": "python",
   "pygments_lexer": "ipython3",
   "version": "3.9.2"
  }
 },
 "nbformat": 4,
 "nbformat_minor": 5
}

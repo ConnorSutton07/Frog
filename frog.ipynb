{
 "cells": [
  {
   "cell_type": "code",
   "execution_count": 105,
   "id": "64b4baee-f270-47a9-a12f-1035ffec1b9e",
   "metadata": {
    "execution": {
     "iopub.execute_input": "2022-02-13T15:55:20.846192Z",
     "iopub.status.busy": "2022-02-13T15:55:20.846192Z",
     "iopub.status.idle": "2022-02-13T15:55:21.019191Z",
     "shell.execute_reply": "2022-02-13T15:55:21.019191Z",
     "shell.execute_reply.started": "2022-02-13T15:55:20.846192Z"
    },
    "tags": []
   },
   "outputs": [],
   "source": [
    "from __future__ import annotations\n",
    "import numpy as np\n",
    "import random\n",
    "import re\n",
    "import os"
   ]
  },
  {
   "cell_type": "code",
   "execution_count": 106,
   "id": "989d8cbd-d10e-44e2-82a2-01db1b5e4981",
   "metadata": {
    "execution": {
     "iopub.execute_input": "2022-02-13T15:55:21.021192Z",
     "iopub.status.busy": "2022-02-13T15:55:21.020191Z",
     "iopub.status.idle": "2022-02-13T15:55:21.036191Z",
     "shell.execute_reply": "2022-02-13T15:55:21.035195Z",
     "shell.execute_reply.started": "2022-02-13T15:55:21.021192Z"
    },
    "tags": []
   },
   "outputs": [],
   "source": [
    "def preprocess(text: str):\n",
    "    text = text.lower()\n",
    "    text = re.sub(r'[\\n ]+', ' ', text)\n",
    "    text = re.sub(r'[^A-Za-z. ]', '', text)\n",
    "    text = text.split(' ')\n",
    "    return text"
   ]
  },
  {
   "cell_type": "code",
   "execution_count": 107,
   "id": "c71eeadc-9a99-4d27-a40f-ced937ab1cfe",
   "metadata": {
    "execution": {
     "iopub.execute_input": "2022-02-13T15:55:21.877325Z",
     "iopub.status.busy": "2022-02-13T15:55:21.877325Z",
     "iopub.status.idle": "2022-02-13T15:55:21.890324Z",
     "shell.execute_reply": "2022-02-13T15:55:21.889328Z",
     "shell.execute_reply.started": "2022-02-13T15:55:21.877325Z"
    },
    "tags": []
   },
   "outputs": [],
   "source": [
    "def ngram(n: int, text: List[str]):\n",
    "    ngrams = {}\n",
    "    for i in range(len(text) - n):\n",
    "        seq = text[i : i + n]\n",
    "        seq = \" \".join(seq)\n",
    "        if seq not in ngrams.keys():\n",
    "            ngrams[seq] = []\n",
    "        ngrams[seq].append( text[i + n] )\n",
    "    return ngrams"
   ]
  },
  {
   "cell_type": "code",
   "execution_count": 108,
   "id": "a2f1015d-7b47-4755-b49c-fb961cbf3477",
   "metadata": {
    "execution": {
     "iopub.execute_input": "2022-02-13T16:00:57.472740Z",
     "iopub.status.busy": "2022-02-13T16:00:57.471738Z",
     "iopub.status.idle": "2022-02-13T16:00:57.486737Z",
     "shell.execute_reply": "2022-02-13T16:00:57.485738Z",
     "shell.execute_reply.started": "2022-02-13T16:00:57.472740Z"
    },
    "tags": []
   },
   "outputs": [],
   "source": [
    "def sample(query: str, model: dict, n: int, length: int):\n",
    "    og_query = query\n",
    "    query = ((query.split(' '))[-n:])\n",
    "    result = query[:]\n",
    "    for i in range(length):\n",
    "        key = \" \".join(query)\n",
    "        if key not in model and n - 1:\n",
    "            return sample(og_query, model, n - 1, length)\n",
    "        choices = model[key]\n",
    "        new_word = random.choice(choices)\n",
    "        del query[0]\n",
    "        query.append(new_word)\n",
    "        result.append(new_word)\n",
    "    return \" \".join(result)"
   ]
  },
  {
   "cell_type": "code",
   "execution_count": 109,
   "id": "15a6dab7-eaf8-43c2-83c8-782a3005db77",
   "metadata": {
    "execution": {
     "iopub.execute_input": "2022-02-13T16:24:56.191302Z",
     "iopub.status.busy": "2022-02-13T16:24:56.191302Z",
     "iopub.status.idle": "2022-02-13T16:25:01.064552Z",
     "shell.execute_reply": "2022-02-13T16:25:01.063551Z",
     "shell.execute_reply.started": "2022-02-13T16:24:56.191302Z"
    },
    "tags": []
   },
   "outputs": [],
   "source": [
    "with open(os.path.join(\"Documents\", \"master_scroll_tokenized.txt\"), encoding = 'utf8') as infile:\n",
    "    text = infile.read()\n",
    "text = preprocess(text)\n",
    "\n",
    "print(text[:55])"
   ]
  },
  {
   "cell_type": "code",
   "execution_count": null,
   "id": "64ad62db-47a3-4331-9ee2-a1628a232ed3",
   "metadata": {
    "execution": {
     "iopub.execute_input": "2022-02-13T16:22:30.544897Z",
     "iopub.status.busy": "2022-02-13T16:22:30.543894Z",
     "iopub.status.idle": "2022-02-13T16:22:58.474413Z",
     "shell.execute_reply": "2022-02-13T16:22:58.473413Z",
     "shell.execute_reply.started": "2022-02-13T16:22:30.544897Z"
    },
    "tags": []
   },
   "outputs": [],
   "source": [
    "models = {}\n",
    "for i in range(3, 6):\n",
    "    models[i] = ngram(i, text)"
   ]
  },
  {
   "cell_type": "code",
   "execution_count": null,
   "id": "c33f25ef-19f2-4ded-8ebd-11d02bc6d41f",
   "metadata": {
    "execution": {
     "iopub.execute_input": "2022-02-13T16:27:48.991342Z",
     "iopub.status.busy": "2022-02-13T16:27:48.991342Z",
     "iopub.status.idle": "2022-02-13T16:27:49.005341Z",
     "shell.execute_reply": "2022-02-13T16:27:49.004341Z",
     "shell.execute_reply.started": "2022-02-13T16:27:48.991342Z"
    },
    "tags": []
   },
   "outputs": [
    {
     "name": "stdout",
     "output_type": "stream",
     "text": [
      "i heard about the gold thats insane and that upvotes you guys really made my moms day thanks all this is going to be in a splendidly good humour and set them all laughing with his funny stories nor did they have to wonder long where he had been and was determined to drive that number up i want to work for them then they often got the wargs to help and shared the plunder with them sometimes they rode on wolves like men do on horses now it seemed that a great goblin raid had been planned for that very night the wargs had come\n",
      "\n",
      "i heard about the gold thats insane and that upvotes you guys really made my moms day thanks all this is going to be the best run arms room in the entire army i won a medal and everything then we had a change in command and the new captain hated that i didnt have my bachelor degree at that point i had to produce a certified copy of my bachelors degree to the university who issued that degree in the first place i said if we have to fight our side will be trained warriors fighting against an army of rich men that is true\n",
      "\n",
      "i heard about the gold thats insane and that upvotes you guys really made her day thank you a few years back i transferred the vast majority of the staff the average time in that position is months this is by design its a position that requires minimal training and there are plenty of possible scenarios where the situation could end favorably for democrats the virus could mutate into far less deadly variants or even dissipate altogether and this discussion would be moot but imagine the virus doesnt go away and this coming spring summer theres a new variant tearing across the country what do democrats\n",
      "\n",
      "i heard about the gold thats insane and that upvotes you guys really made her day thank you a few years back i started my first job after college years ago i was working for a small local store chain stores across the state paid over minimum wage apparently had decent benefits if you were full time they made sure no one was and wasnt too terrible then last week the entire staff at a different store quit at once didnt think much of it until our bosss boss came in and told me we needed to have the rehab checking account the one we specifically\n",
      "\n",
      "i heard about the gold thats insane and that upvotes you guys really made my moms day thanks all this is going to be asking for unclassified reports from the pentagon at a yearly basis until and has upgraded the definition of what is a ufo at the same time clerk again not my problem if you want you can call centre management when you get home by morning and dont do anything stupid i like to keep fit so after my work day i usually go for a run in the nearby park i have stayed away from gyms especially during covid when my day\n",
      "\n",
      "i heard about the gold thats insane and that upvotes you guys really made my moms day thanks all this is going to be asking for unclassified reports from the pentagon at a yearly basis until and has upgraded the definition of what is a ufo at the same time clerk again not my problem if you want you can call centre management when you get home by morning and dont do anything stupid i like to keep fit so after my work day i usually go for a run in the nearby park i have stayed away from gyms especially during covid when my day\n",
      "\n",
      "i heard about the gold thats insane and that upvotes you guys really made my moms day thanks all this is going to be funny and get a hearing date calendared it ended up being a total shitshow creating massive traffic backups and couldnt be completed as scheduled it was a triumphant failure so i started a new job about two years ago but a post on here reminded me of it the city i live in provides you with one recycling bin for free if you want an extra one its if it breaks for any reason at all and is unusable they would replace\n",
      "\n",
      "i heard about the gold thats insane and that upvotes you guys really made her day thank you a few years back i transferred the vast majority of conservatives voted for him over biden how is the affection toward trump different or similar to those of past epidemics pandemics operation warp speed to the extent that theyre corroborated by facts allegations of deliberate harm or neglect to blue states for political purposes allegations that the administration had intentionally rolled back pandemic preparedness measures put in place by prior administrations overall effectiveness of public health and social measures or available diagnostics vaccines therapeutics a question arises pertaining\n",
      "\n",
      "i heard about the gold thats insane and that upvotes you guys really made her day thank you a few years back and immediately started looking for a job at once and that he had days to comply he contacted me and i opened some mail id gotten from the hoa id ignored it since i was supposed to be the end goal of what the gop does especially when studies are showing that people who die of covid disproportionately come from their voting base elizabeth ii became queen of the united kingdom and the various commonwealth realms on february years ago today at that time\n",
      "\n",
      "i heard about the gold thats insane and that upvotes you guys really made my moms day thanks all this is going to be very long background a million years ago my property was part of a large farm i bought it about years ago long after the farm was broken up but before there was any development near it the piece of land i got was near the back entrance that joined into a dirt road that ran past the more expensive plots were near the tarred road in the front i explain to her she has to sit in the back well the other\n",
      "\n"
     ]
    }
   ],
   "source": [
    "n = 4\n",
    "resp_len = 100\n",
    "query = 'she looked at me'.lower()\n",
    "for j in range(10):\n",
    "    print(' '.join(query.split()[:len(query.split()) - n]) + ' ' + sample(query, models[n], n, length = resp_len))\n",
    "    print()"
   ]
  },
  {
   "cell_type": "code",
   "execution_count": null,
   "id": "e3afa43b-17e2-4da3-b18c-6b07eb86c6a4",
   "metadata": {},
   "outputs": [],
   "source": []
  }
 ],
 "metadata": {
  "kernelspec": {
   "display_name": "Python 3",
   "language": "python",
   "name": "python3"
  },
  "language_info": {
   "codemirror_mode": {
    "name": "ipython",
    "version": 3
   },
   "file_extension": ".py",
   "mimetype": "text/x-python",
   "name": "python",
   "nbconvert_exporter": "python",
   "pygments_lexer": "ipython3",
   "version": "3.9.7"
  }
 },
 "nbformat": 4,
 "nbformat_minor": 5
}
